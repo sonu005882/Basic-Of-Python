{
  "nbformat": 4,
  "nbformat_minor": 0,
  "metadata": {
    "colab": {
      "provenance": []
    },
    "kernelspec": {
      "name": "python3",
      "display_name": "Python 3"
    },
    "language_info": {
      "name": "python"
    }
  },
  "cells": [
    {
      "cell_type": "markdown",
      "source": [
        "#Python Basic"
      ],
      "metadata": {
        "id": "0ZHpOjdoDqw5"
      }
    },
    {
      "cell_type": "markdown",
      "source": [
        "1. What is Python, And why is it popular?\n",
        "  :> Python is a high-level programming language known for its simplicity and readability. It was created by Guido van Rossum and first released in 1991.\n",
        "\n",
        "Why is it popular?\n",
        "   :> Python is very Easy to Learn.\n",
        "     Widely used in the Industry.\n",
        "     A Lot of libraries (137000)  \n",
        "     Python can work for multiple os base system.\n",
        "     It can work on diffrent platform.\n",
        "     Front end, Back end, Data Analytics, Gaming\n",
        "     \n",
        "\n",
        "2. What is an interpeter in Python?\n",
        "   :> Code can be Executed has been return, You have return the code their on their execute the code because it is getting interpreting on the run time.\n",
        "\n",
        "3. What are pre-defined keywords in python?\n",
        "  :> Here Some Pre-defined Keywords in python.\n",
        "if      else    elif    while   for     break   continue    return\n",
        "pass    match   case\n",
        "\n",
        "Logic and Boolean Operations\n",
        "and     or      not     in      is\n",
        "\n",
        "Exception Handling\n",
        "try     except  finally raise   assert\n",
        "\n",
        "Variable and Function Definition\n",
        "def     class   lambda  global  nonlocal\n",
        "\n",
        "Module Related\n",
        "import  from    as      with\n",
        "\n",
        "Special Keywords\n",
        "True    False   None    del     yield   async   await\n",
        "\n",
        "4. Can keywords be used as variable names?\n",
        "  :> #print\"Hello Word\"\n",
        "       Error\n",
        "  Actually Print was a sign The value Hello Words, So It was not Print.\n",
        "\n",
        "5. What is mutability in python?\n",
        "   :> Basically  When ever you are able to a sign the value to another value after the creation, That is a Mutable value.\n",
        "\n",
        "6. Why are lists mutable, But tuple are immutable?\n",
        "   :> List is a Type of mutable Object/Support item assigment.\n",
        "  \n",
        "7. What is the diffrence between \"==\" and \"is\" operators in python?\n",
        "   :>  \"==\" checks for value equality, while \"is\" checks for identity (if two objects are exactly the same object in memory).\n",
        "\n",
        "8. What are logical operator in python?\n",
        "   :> This are special keywords or symbol that are used to perfome some operation on value or variable.\n",
        "\n",
        "9. What is Type casting in python?\n",
        "  :> The Process of changing the data type of a value or object, This called type casting.\n",
        "\n",
        "10. What is the diffrence between implicit and explicit type casting?\n",
        "  :> Implicit=> Python understand the standard data type is very easy.\n",
        "     Explicit=> Convert Data type using Inbuilt Function, str, int, float, bool.\n",
        "\n",
        "11. What is the purpose of conditional statements in python?\n",
        "   :> Helps you to code decision based on some precondition.\n",
        "\n",
        "12. How does the elif statement work?\n",
        "  :> The elif statement (which stands for \"else if\") is used to multiple conditional statements in Python. It's checked only if all previous if and elif conditions are False.\n",
        "\n",
        "13. What is difference between for and while loop?\n",
        "   :> Difference between a for loop and a while loop is the number of times the code is repeated.\n",
        "\n",
        "14. Describe a scenario where a while loop is more suitable than a for loop?\n",
        "  :> Situations where the number of iterations is not predetermined and depends on some dynamic condition"
      ],
      "metadata": {
        "id": "X1qMm0l7JV37"
      }
    },
    {
      "cell_type": "markdown",
      "source": [
        "#Practics Question With Answer\n"
      ],
      "metadata": {
        "id": "JcjhwarUqKXf"
      }
    },
    {
      "cell_type": "markdown",
      "source": [
        "1. Write a Python program to print \"Hello, World\"!"
      ],
      "metadata": {
        "id": "6_3X7HZ51gNX"
      }
    },
    {
      "cell_type": "code",
      "source": [
        "print(\"Hello word\")"
      ],
      "metadata": {
        "id": "--oaaBFy3hKa"
      },
      "execution_count": null,
      "outputs": []
    },
    {
      "cell_type": "markdown",
      "source": [
        "2. Write a Python program that displays your name and age.\n"
      ],
      "metadata": {
        "id": "uQnIfeRc3ppX"
      }
    },
    {
      "cell_type": "code",
      "source": [
        "name = input(\"Enter your name: \")\n",
        "age = input(\"Enter your age: \")\n",
        "\n",
        "print(\"Enter your name\", name)\n",
        "print(\"Enter your age\", age)\n"
      ],
      "metadata": {
        "id": "dkz_O6gg33-B"
      },
      "execution_count": null,
      "outputs": []
    },
    {
      "cell_type": "markdown",
      "source": [
        "3. Write code to print all the pre—defined keywords in Python using the keyword library."
      ],
      "metadata": {
        "id": "LEQCgep-7B4L"
      }
    },
    {
      "cell_type": "code",
      "source": [
        "import keyword\n",
        "\n",
        "print(\"Python keywords:\")\n",
        "print(keyword.kwlist)"
      ],
      "metadata": {
        "id": "LfPt9hjy7eIs"
      },
      "execution_count": null,
      "outputs": []
    },
    {
      "cell_type": "markdown",
      "source": [
        "4. Write a program that checks if a given word is a Python keyword."
      ],
      "metadata": {
        "id": "Pzt8eCde7x1h"
      }
    },
    {
      "cell_type": "code",
      "source": [
        "import keyword\n",
        "\n",
        "word = input(\"Enter a word:\")\n",
        "if keyword.iskeyword(word):\n",
        "    print(f\"'{word}' is a Python keyword\")\n",
        "else:\n",
        "    print(f\"'{word}' is not a Python keyword\")\n"
      ],
      "metadata": {
        "id": "obC61cRq75Fw"
      },
      "execution_count": null,
      "outputs": []
    },
    {
      "cell_type": "markdown",
      "source": [
        "5. Create a list and  tuple in Python, and  demonstrate how attempting to change an element works differently for each."
      ],
      "metadata": {
        "id": "lQNeuQkh8YTI"
      }
    },
    {
      "cell_type": "code",
      "source": [
        "my_list = [1, 2, 3]\n",
        "my_tuple = (1, 2, 3)\n",
        "\n",
        "print(\"Original list:\", my_list)\n",
        "my_list[0] = 10\n",
        "print(\"Modified list:\", my_list)\n",
        "\n",
        "print(\"Original tuple:\", my_tuple)\n",
        "try:\n",
        "    my_tuple[0] = 10\n",
        "except TypeError as e:\n",
        "    print(\"Error:\", e)\n"
      ],
      "metadata": {
        "id": "jPEmk-xh8ea3"
      },
      "execution_count": null,
      "outputs": []
    },
    {
      "cell_type": "markdown",
      "source": [
        "6. Write a function to demonstrate the behavior of mutable and immutable arguments.\n"
      ],
      "metadata": {
        "id": "Xidyizhd9P94"
      }
    },
    {
      "cell_type": "code",
      "source": [
        "def modify_arguments(immutable_arg, mutable_arg):\n",
        "\n",
        "    immutable_arg += 1\n",
        "    mutable_arg.append(4)\n",
        "\n",
        "    print(\"Inside the function:\")\n",
        "    print(\"Immutable argument:\", immutable_arg)\n",
        "    print(\"Mutable argument:\", mutable_arg)\n",
        "\n",
        "\n",
        "num = 5\n",
        "my_list = [1, 2, 3]\n",
        "\n",
        "print(\"Before function call:\")\n",
        "print(\"num:\", num)\n",
        "print(\"my_list:\", my_list)\n",
        "modify_arguments(num, my_list)\n",
        "\n",
        "print(\"After function call:\")\n",
        "print(\"num:\", num)\n",
        "print(\"my_list:\", my_list)"
      ],
      "metadata": {
        "id": "Omq8fQ0l9WD3"
      },
      "execution_count": null,
      "outputs": []
    },
    {
      "cell_type": "markdown",
      "source": [
        "7. Write a program that performs basic arithmetic operations on two user-input numbers."
      ],
      "metadata": {
        "id": "kny-mUp8-eSZ"
      }
    },
    {
      "cell_type": "code",
      "source": [
        "def basic_calculator():\n",
        "    \"\"\"\n",
        "    Takes two numbers from the user and performs addition, subtraction, multiplication, and division.\n",
        "    \"\"\"\n",
        "    num1 = float(input(\"Enter the first number: \"))\n",
        "    num2 = float(input(\"Enter the second number: \"))\n",
        "\n",
        "    print(\"Addition:\", num1 + num2)\n",
        "    print(\"Subtraction:\", num1 - num2)\n",
        "    print(\"Multiplication:\", num1 * num2)\n",
        "\n",
        "    # Check for division by zero\n",
        "    if num2 == 0:\n",
        "        print(\"Division by zero is not allowed!\")\n",
        "    else:\n",
        "        print(\"Division:\", num1 / num2)\n",
        "\n",
        "if __name__ == \"__main__\":\n",
        "    basic_calculator()"
      ],
      "metadata": {
        "id": "edqXWzEb-sBF"
      },
      "execution_count": null,
      "outputs": []
    },
    {
      "cell_type": "markdown",
      "source": [
        "8. Write a program to demonstrate the use of logical operators.\n",
        "Ans:> N/A"
      ],
      "metadata": {
        "id": "fNckFngr_n-K"
      }
    },
    {
      "cell_type": "markdown",
      "source": [
        "9. Write a Python program to convert user input from string to integer, float, and boolean types."
      ],
      "metadata": {
        "id": "5xhwf37IABlH"
      }
    },
    {
      "cell_type": "code",
      "source": [
        "def convert_input():\n",
        "\n",
        "\n",
        "    user_input = input(\"Enter a value: \")\n",
        "\n",
        "    try:\n",
        "\n",
        "        int_value = int(user_input)\n",
        "        print(\"Integer:\", int_value)\n",
        "    except ValueError:\n",
        "        try:\n",
        "\n",
        "            float_value = float(user_input)\n",
        "            print(\"Float:\", float_value)\n",
        "        except ValueError:\n",
        "\n",
        "            if user_input.lower() == \"true\":\n",
        "                print(\"Boolean:\", True)\n",
        "            elif user_input.lower() == \"false\":\n",
        "                print(\"Boolean:\", False)\n",
        "            else:\n",
        "                print(\"Invalid input. Could not convert to int, float, or boolean.\")\n",
        "\n",
        "if __name__ == \"__main__\":\n",
        "    convert_input()\n"
      ],
      "metadata": {
        "id": "ZOoym9u7AKFz"
      },
      "execution_count": null,
      "outputs": []
    },
    {
      "cell_type": "markdown",
      "source": [
        "10. Write code to demonstrate type casting with list elements."
      ],
      "metadata": {
        "id": "JCUCUWixA2GW"
      }
    },
    {
      "cell_type": "code",
      "source": [
        "def type_cast_list_elements(my_list):\n",
        "    \"\"\"Casts string numbers to integers and floats where applicable.\"\"\"\n",
        "    print(\"Original list:\", my_list)\n",
        "    casted_list = [int(x) if x.isdigit() else float(x) if x.replace('.', '', 1).isdigit() else x for x in my_list]\n",
        "    print(\"Type casted list:\", casted_list)\n",
        "\n",
        "data_list = [\"10\", \"20.5\", \"30\", \"hello\", \"40\"]\n",
        "\n",
        "type_cast_list_elements(data_list)"
      ],
      "metadata": {
        "id": "nS8IZ1KuBQL0"
      },
      "execution_count": null,
      "outputs": []
    },
    {
      "cell_type": "markdown",
      "source": [
        "11. Write a program that checks if a number is positive, negative, or zero"
      ],
      "metadata": {
        "id": "LzXItZEfBil3"
      }
    },
    {
      "cell_type": "code",
      "source": [
        "def check_number(num):\n",
        "    if num > 0:\n",
        "        print(\"The number is positive.\")\n",
        "    elif num < 0:\n",
        "        print(\"The number is negative.\")\n",
        "    else:\n",
        "        print(\"The number is zero.\")\n",
        "\n",
        "number = float(input(\"Enter a number: \"))\n",
        "check_number(number)\n"
      ],
      "metadata": {
        "id": "WVpJGKeMBrKh"
      },
      "execution_count": null,
      "outputs": []
    },
    {
      "cell_type": "markdown",
      "source": [
        "12.  Write a for loop to print numbers from 1 to  10."
      ],
      "metadata": {
        "id": "P2BUFftiCSt-"
      }
    },
    {
      "cell_type": "code",
      "source": [
        "for i in range(1, 11):\n",
        "    print(i)"
      ],
      "metadata": {
        "id": "TlGyjQo6CYTq"
      },
      "execution_count": null,
      "outputs": []
    },
    {
      "cell_type": "markdown",
      "source": [
        "13. Write a Python program to find the sum of all even numbers between 1 and    50."
      ],
      "metadata": {
        "id": "1tbqQKf_Cl5p"
      }
    },
    {
      "cell_type": "code",
      "source": [
        "sum = 0\n",
        "\n",
        "for num in range(2, 51, 2):\n",
        "    sum += num\n",
        "\n",
        "print(\"The sum of even numbers between 1 and 50 is:\", sum)"
      ],
      "metadata": {
        "id": "YMo_vbKSCrTM"
      },
      "execution_count": null,
      "outputs": []
    },
    {
      "cell_type": "markdown",
      "source": [
        "14. Write a program to reverse a string using a while loop."
      ],
      "metadata": {
        "id": "uaLSClyWDc6w"
      }
    },
    {
      "cell_type": "code",
      "source": [
        "def reverse_string(s):\n",
        "    reversed_str = \"\"\n",
        "    index = len(s) - 1\n",
        "    while index >= 0:\n",
        "        reversed_str += s[index]\n",
        "        index -= 1\n",
        "    return reversed_str\n",
        "\n",
        "string = input(\"Enter a string: \")\n",
        "print(\"Reversed string:\", reverse_string(string))\n"
      ],
      "metadata": {
        "id": "IZJ4ZZOIDws6"
      },
      "execution_count": null,
      "outputs": []
    },
    {
      "cell_type": "markdown",
      "source": [
        "15. Write a Python program to calculate the factorial of a number provided by the user using a while loop."
      ],
      "metadata": {
        "id": "cD00VuO-D9pZ"
      }
    },
    {
      "cell_type": "code",
      "source": [
        "num = int(input(\"Enter a non-negative integer: \"))\n",
        "\n",
        "if num < 0:\n",
        "    print(\"Factorial is not defined for negative numbers.\")\n",
        "else:\n",
        "    factorial = 1\n",
        "    while num > 0:\n",
        "        factorial *= num\n",
        "        num -= 1\n",
        "\n",
        "    print(\"The factorial is:\", factorial)"
      ],
      "metadata": {
        "id": "Sr-mDxIsEDZW"
      },
      "execution_count": null,
      "outputs": []
    }
  ]
}